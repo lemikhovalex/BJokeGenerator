{
 "cells": [
  {
   "cell_type": "code",
   "execution_count": 1,
   "metadata": {
    "colab": {},
    "colab_type": "code",
    "id": "YODfYwwL7XOG"
   },
   "outputs": [
    {
     "name": "stderr",
     "output_type": "stream",
     "text": [
      "Using TensorFlow backend.\n"
     ]
    }
   ],
   "source": [
    "import numpy as np\n",
    "\n",
    "from keras.models import Sequential\n",
    "from keras.layers import Dense, Conv2D, Flatten, MaxPooling2D, Dropout, Reshape, LSTM, TimeDistributed\n",
    "from keras.optimizers import Adam\n",
    "from keras import callbacks\n",
    "from keras.utils import to_categorical\n",
    "from keras.models import load_model\n",
    "import json\n",
    "from keras.callbacks import *"
   ]
  },
  {
   "cell_type": "markdown",
   "metadata": {
    "colab_type": "text",
    "id": "0FYXRlAzJRiY"
   },
   "source": [
    "Before start go to **Edit->Notebook setting->Hardware accelerator** and set GPU"
   ]
  },
  {
   "cell_type": "code",
   "execution_count": 2,
   "metadata": {
    "colab": {},
    "colab_type": "code",
    "id": "kjt-lBa57cGW"
   },
   "outputs": [],
   "source": [
    "def generator(features, labels, batch_size, symbols):\n",
    "    # Create empty arrays to contain batch of features and labels#\n",
    "    idx = np.arange(len(features))\n",
    "    np.random.shuffle(idx)\n",
    "    offset = 0\n",
    "    while True:\n",
    "        if offset + batch_size > len(idx):\n",
    "            np.random.shuffle(idx)\n",
    "            offset = 0\n",
    "\n",
    "        # choose random index in features\n",
    "        index = idx[offset: offset + batch_size]\n",
    "        batch_features = to_categorical(\n",
    "            features[index], num_classes=symbols)\n",
    "        batch_labels = to_categorical(\n",
    "            labels[index], num_classes=symbols)\n",
    "        offset += batch_size\n",
    "        yield batch_features, batch_labels"
   ]
  },
  {
   "cell_type": "markdown",
   "metadata": {
    "colab_type": "text",
    "id": "H9Z_dh9AJ_qk"
   },
   "source": [
    "Here we load train data from git"
   ]
  },
  {
   "cell_type": "code",
   "execution_count": 6,
   "metadata": {
    "colab": {
     "base_uri": "https://localhost:8080/",
     "height": 183
    },
    "colab_type": "code",
    "id": "9iW7w2618-_F",
    "outputId": "e36b62b1-0df0-4a25-ef5a-221943e6edb8"
   },
   "outputs": [
    {
     "name": "stdout",
     "output_type": "stream",
     "text": [
      "fatal: destination path 'jokes_repo' already exists and is not an empty directory.\n",
      "\n",
      "\n",
      "Succesfull opend\n"
     ]
    }
   ],
   "source": [
    "!git clone -l -s git://github.com/taivop/joke-dataset jokes_repo\n",
    "with open('jokes_repo/reddit_jokes.json', 'r') as f:\n",
    "        data = json.loads(f.read())\n",
    "        print('\\n\\nSuccesfull opend')"
   ]
  },
  {
   "cell_type": "code",
   "execution_count": 7,
   "metadata": {
    "colab": {
     "base_uri": "https://localhost:8080/",
     "height": 33
    },
    "colab_type": "code",
    "id": "0xQkgF867jk-",
    "outputId": "0b0970fd-f082-42b5-b57e-d2a8d6896119"
   },
   "outputs": [
    {
     "name": "stdout",
     "output_type": "stream",
     "text": [
      "jokes:  147811\n"
     ]
    }
   ],
   "source": [
    "jokes = []\n",
    "for j in data:\n",
    "  content = j['title'] + ' ' + j['body']\n",
    "  content = ''.join(map(lambda c: c if ord(c) < 128 else ' ', content))\n",
    "  content = content.replace('\\n', ' ')\n",
    "  content = content.strip()\n",
    "  content = ' '.join(content.split(' '))\n",
    "  if len(content) > 200:\n",
    "    continue\n",
    "  jokes.append(content)\n",
    "print('jokes: ', len(jokes))"
   ]
  },
  {
   "cell_type": "markdown",
   "metadata": {
    "colab_type": "text",
    "id": "uuSGd26sLj_j"
   },
   "source": [
    "Observing joke format"
   ]
  },
  {
   "cell_type": "code",
   "execution_count": 8,
   "metadata": {
    "colab": {
     "base_uri": "https://localhost:8080/",
     "height": 33
    },
    "colab_type": "code",
    "id": "YSD4pzrALk23",
    "outputId": "f0a438d7-ed13-4a2e-8693-a685883f3793"
   },
   "outputs": [
    {
     "data": {
      "text/plain": [
       "'I hate how you cant even say black paint anymore Now I have to say \"Leroy can you please paint the fence?\"'"
      ]
     },
     "execution_count": 8,
     "metadata": {},
     "output_type": "execute_result"
    }
   ],
   "source": [
    "jokes[0]"
   ]
  },
  {
   "cell_type": "code",
   "execution_count": 9,
   "metadata": {
    "colab": {
     "base_uri": "https://localhost:8080/",
     "height": 33
    },
    "colab_type": "code",
    "id": "YMOG7ICS-5r0",
    "outputId": "53c8ec3d-471c-4386-ef6f-de05236f46a7"
   },
   "outputs": [
    {
     "name": "stdout",
     "output_type": "stream",
     "text": [
      "symbols:  102\n"
     ]
    }
   ],
   "source": [
    "everything = sorted(set(''.join(jokes)))\n",
    "everything = filter(lambda c: ord(c) < 128, everything)\n",
    "char_map = {}\n",
    "reverse_char_map = {}\n",
    "for i, c in enumerate(everything):\n",
    "  char_map[c] = i + 2\n",
    "  reverse_char_map[i + 2] = c\n",
    "symbols = len(char_map) + 2\n",
    "print('symbols: ', symbols)"
   ]
  },
  {
   "cell_type": "code",
   "execution_count": 10,
   "metadata": {
    "colab": {},
    "colab_type": "code",
    "id": "CDjFSYZC_Rbc"
   },
   "outputs": [],
   "source": [
    "features = list(\n",
    "    map(lambda j: np.array([1] + list(map(lambda c: char_map.get(c, char_map[' ']), j)) + [0], dtype='int8'),\n",
    "        jokes))\n",
    "\n",
    "largest = max(map(len, features))\n",
    "x = np.zeros([len(features), largest], dtype='int8')\n",
    "y = np.zeros([len(features), largest], dtype='int8')\n",
    "\n",
    "for i, f in enumerate(features):\n",
    "  x[i, :len(f)] = f\n",
    "  y[i, :len(f) - 1] = f[1:]\n",
    "\n",
    "idx = np.arange(len(x))\n",
    "np.random.shuffle(idx)\n",
    "\n",
    "validation_split = 0.2\n",
    "val_samples = int(validation_split * len(x))\n",
    "\n",
    "val_idx = idx[:val_samples]\n",
    "val_x = to_categorical(x[val_idx], num_classes=symbols)\n",
    "val_y = to_categorical(y[val_idx], num_classes=symbols)\n",
    "\n",
    "train_idx = idx[val_samples:]\n",
    "x = x[train_idx]\n",
    "y = y[train_idx]\n",
    "\n",
    "batch_size = 64"
   ]
  },
  {
   "cell_type": "markdown",
   "metadata": {
    "colab_type": "text",
    "id": "phvtK07AI3-a"
   },
   "source": [
    "[Here](https://medium.com/@mukesh.kumar43585/model-checkpoint-google-colab-and-drive-as-persistent-storage-for-long-training-runs-e35ffa0c33d9)  I read how to save model in Colab"
   ]
  },
  {
   "cell_type": "code",
   "execution_count": 16,
   "metadata": {
    "colab": {},
    "colab_type": "code",
    "id": "r1s_iGHZKyN7"
   },
   "outputs": [
    {
     "ename": "ModuleNotFoundError",
     "evalue": "No module named 'google.colab'",
     "output_type": "error",
     "traceback": [
      "\u001b[0;31m---------------------------------------------------------------------------\u001b[0m",
      "\u001b[0;31mModuleNotFoundError\u001b[0m                       Traceback (most recent call last)",
      "\u001b[0;32m<ipython-input-16-b79d998bf33d>\u001b[0m in \u001b[0;36m<module>\u001b[0;34m\u001b[0m\n\u001b[0;32m----> 1\u001b[0;31m \u001b[0;32mfrom\u001b[0m \u001b[0mgoogle\u001b[0m\u001b[0;34m.\u001b[0m\u001b[0mcolab\u001b[0m \u001b[0;32mimport\u001b[0m \u001b[0mdrive\u001b[0m\u001b[0;34m\u001b[0m\u001b[0;34m\u001b[0m\u001b[0m\n\u001b[0m\u001b[1;32m      2\u001b[0m \u001b[0mdrive\u001b[0m\u001b[0;34m.\u001b[0m\u001b[0mmount\u001b[0m\u001b[0;34m(\u001b[0m\u001b[0;34m\"/content/gdrive\"\u001b[0m\u001b[0;34m)\u001b[0m\u001b[0;34m\u001b[0m\u001b[0;34m\u001b[0m\u001b[0m\n",
      "\u001b[0;31mModuleNotFoundError\u001b[0m: No module named 'google.colab'"
     ]
    }
   ],
   "source": [
    "from google.colab import drive\n",
    "drive.mount(\"/content/gdrive\")"
   ]
  },
  {
   "cell_type": "code",
   "execution_count": 17,
   "metadata": {
    "colab": {},
    "colab_type": "code",
    "id": "djeTJX-eIJru"
   },
   "outputs": [],
   "source": [
    "filepath=\"/content/gdrive/My Drive/BJokesNN/epochs:{epoch:03d}-val_acc:{categorical_accuracy:.3f}.hdf5\"\n",
    "checkpoint = ModelCheckpoint(filepath, monitor='categorical_accuracy', verbose=1, save_best_only=True, mode='max')\n",
    "callbacks_list = [checkpoint]"
   ]
  },
  {
   "cell_type": "markdown",
   "metadata": {
    "colab_type": "text",
    "id": "f0ix2NmOJE91"
   },
   "source": [
    "Let us go use free GPU"
   ]
  },
  {
   "cell_type": "code",
   "execution_count": null,
   "metadata": {
    "colab": {},
    "colab_type": "code",
    "id": "rHI_mjoOAy2M"
   },
   "outputs": [
    {
     "name": "stdout",
     "output_type": "stream",
     "text": [
      "Model: \"sequential_1\"\n",
      "_________________________________________________________________\n",
      "Layer (type)                 Output Shape              Param #   \n",
      "=================================================================\n",
      "lstm_1 (LSTM)                (None, 202, 1024)         4616192   \n",
      "_________________________________________________________________\n",
      "dropout_1 (Dropout)          (None, 202, 1024)         0         \n",
      "_________________________________________________________________\n",
      "lstm_2 (LSTM)                (None, 202, 1024)         8392704   \n",
      "_________________________________________________________________\n",
      "dropout_2 (Dropout)          (None, 202, 1024)         0         \n",
      "_________________________________________________________________\n",
      "lstm_3 (LSTM)                (None, 202, 1024)         8392704   \n",
      "_________________________________________________________________\n",
      "dropout_3 (Dropout)          (None, 202, 1024)         0         \n",
      "_________________________________________________________________\n",
      "lstm_4 (LSTM)                (None, 202, 1024)         8392704   \n",
      "_________________________________________________________________\n",
      "dropout_4 (Dropout)          (None, 202, 1024)         0         \n",
      "_________________________________________________________________\n",
      "time_distributed_1 (TimeDist (None, 202, 102)          104550    \n",
      "=================================================================\n",
      "Total params: 29,898,854\n",
      "Trainable params: 29,898,854\n",
      "Non-trainable params: 0\n",
      "_________________________________________________________________\n",
      "None\n",
      "Epoch 1/20\n"
     ]
    }
   ],
   "source": [
    "model = Sequential()\n",
    "model.add(LSTM(1024, return_sequences=True, input_shape=[largest, symbols]))\n",
    "model.add(Dropout(0.2))\n",
    "model.add(LSTM(1024, return_sequences=True))\n",
    "model.add(Dropout(0.2))\n",
    "model.add(LSTM(1024, return_sequences=True))\n",
    "model.add(Dropout(0.2))\n",
    "model.add(LSTM(1024, return_sequences=True))\n",
    "model.add(Dropout(0.2))\n",
    "model.add(TimeDistributed(Dense(symbols, activation='softmax')))\n",
    "model.compile(loss='categorical_crossentropy',\n",
    "              optimizer='adam', metrics=['categorical_accuracy'])\n",
    "print(model.summary())\n",
    "\n",
    "model.fit_generator(\n",
    "    generator(x, y, batch_size, symbols), steps_per_epoch=len(x) // batch_size,\n",
    "    epochs=20, shuffle=False, validation_data=(val_x  , val_y),\n",
    "    callbacks=callbacks_list, verbose=1\n",
    "    )\n",
    "print(\"Whoho done\")"
   ]
  }
 ],
 "metadata": {
  "accelerator": "GPU",
  "colab": {
   "collapsed_sections": [],
   "machine_shape": "hm",
   "name": "Untitled0.ipynb",
   "provenance": []
  },
  "kernelspec": {
   "display_name": "Python 3",
   "language": "python",
   "name": "python3"
  },
  "language_info": {
   "codemirror_mode": {
    "name": "ipython",
    "version": 3
   },
   "file_extension": ".py",
   "mimetype": "text/x-python",
   "name": "python",
   "nbconvert_exporter": "python",
   "pygments_lexer": "ipython3",
   "version": "3.7.5"
  }
 },
 "nbformat": 4,
 "nbformat_minor": 1
}
